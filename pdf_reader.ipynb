{
 "cells": [
  {
   "cell_type": "code",
   "execution_count": 1,
   "metadata": {},
   "outputs": [],
   "source": [
    "# Import necessary libraries\n",
    "import pytesseract  # Import pytesseract library for text recognition in images\n",
    "import os\n",
    "from PIL import Image # Import Image module from the Python Imaging Library (PIL)\n",
    "from pdf2image import convert_from_path # function from pdf2image library to convert PDF to images\n",
    "from gtts import gTTS # Import the gTTS library to convert text to speech"
   ]
  },
  {
   "cell_type": "code",
   "execution_count": 2,
   "metadata": {},
   "outputs": [],
   "source": [
    "# Set the Tesseract OCR executable path\n",
    "pytesseract.pytesseract.tesseract_cmd=r'C:\\Program Files\\Tesseract-OCR\\tesseract.exe'"
   ]
  },
  {
   "cell_type": "code",
   "execution_count": 3,
   "metadata": {},
   "outputs": [],
   "source": [
    "def read_pdf(file_name): # Define a function to read text from a PDF file\n",
    "    \n",
    "    pages=[] #list to store extracted text from each page of the PDF\n",
    "\n",
    "    try:\n",
    "        images=convert_from_path(file_name) # Convert PDF to images\n",
    "\n",
    "        for i,image in enumerate(images):\n",
    "            filename='page_'+ str(i) + '_' + os.path.basename(file_name) + '.jpeg'\n",
    "            image.save(filename,'JPEG') # Save the images\n",
    "\n",
    "            text=pytesseract.image_to_string(Image.open(filename)) # Extract text from the image\n",
    "            pages.append(text) # Add extracted text to the pages list\n",
    "\n",
    "    except Exception as e:\n",
    "        print(str(e))\n",
    "    \n",
    "    output_file_name=os.path.splitext(file_name)[0] + '.txt' # Create an output text file name based on the input PDF file\n",
    "    with open(output_file_name, 'w') as f:\n",
    "        f.write('\\n'.join(pages)) # Write extracted text to the output text file\n",
    "\n",
    "    extracted_text='\\n'.join(pages) # Join extracted text from all pages into a single string\n",
    "\n",
    "    return output_file_name, extracted_text "
   ]
  },
  {
   "cell_type": "code",
   "execution_count": 4,
   "metadata": {},
   "outputs": [],
   "source": [
    "pdf=\"Impact of COVID-19 on the Media and Entertainment Industry.pdf\" # Specify the input PDF file"
   ]
  },
  {
   "cell_type": "code",
   "execution_count": 5,
   "metadata": {},
   "outputs": [],
   "source": [
    "# Call the read_pdf function to extract text from the PDF file\n",
    "text_file, extracted_text=read_pdf(pdf) "
   ]
  },
  {
   "cell_type": "code",
   "execution_count": 6,
   "metadata": {},
   "outputs": [],
   "source": [
    "speech=gTTS(text=extracted_text,lang='en')\n",
    "audio_file=os.path.splitext(pdf)[0] + '_audio.mp3'\n",
    "speech.save(audio_file) # Save the generated speech as an audio file in mp3 format"
   ]
  }
 ],
 "metadata": {
  "kernelspec": {
   "display_name": "Python 3",
   "language": "python",
   "name": "python3"
  },
  "language_info": {
   "codemirror_mode": {
    "name": "ipython",
    "version": 3
   },
   "file_extension": ".py",
   "mimetype": "text/x-python",
   "name": "python",
   "nbconvert_exporter": "python",
   "pygments_lexer": "ipython3",
   "version": "3.11.1"
  },
  "orig_nbformat": 4
 },
 "nbformat": 4,
 "nbformat_minor": 2
}
