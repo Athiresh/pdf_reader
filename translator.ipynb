{
 "cells": [
  {
   "cell_type": "code",
   "execution_count": 1,
   "metadata": {},
   "outputs": [],
   "source": [
    "# Import necessary libraries\n",
    "import pytesseract  # Import pytesseract library for text recognition in images\n",
    "import os\n",
    "from PIL import Image # Import Image module from the Python Imaging Library (PIL)\n",
    "from pdf2image import convert_from_path # function from pdf2image library to convert PDF to images\n",
    "from gtts import gTTS # Import the gTTS library to convert text to speech\n",
    "from googletrans import Translator # Import Translator class from googletrans library for language translation"
   ]
  },
  {
   "cell_type": "code",
   "execution_count": 2,
   "metadata": {},
   "outputs": [],
   "source": [
    "# Set the Tesseract OCR executable path\n",
    "pytesseract.pytesseract.tesseract_cmd=r'C:\\Program Files\\Tesseract-OCR\\tesseract.exe'"
   ]
  },
  {
   "cell_type": "code",
   "execution_count": 3,
   "metadata": {},
   "outputs": [],
   "source": [
    "# Define a function to read text from a PDF file and translate it to the target language\n",
    "def read_pdf(file_name, target_language='en'):\n",
    "    pages=[]\n",
    "\n",
    "    try:\n",
    "        images=convert_from_path(file_name)\n",
    "\n",
    "        for i,image in enumerate(images):\n",
    "            filename='page_'+ str(i) + '_' + os.path.basename(file_name) + '.jpeg'\n",
    "            image.save(filename,'JPEG')\n",
    "\n",
    "            text=pytesseract.image_to_string(Image.open(filename))\n",
    "            pages.append(text)\n",
    "\n",
    "    except Exception as e:\n",
    "        print(str(e))\n",
    "    \n",
    "    extracted_text='\\n'.join(pages)\n",
    "\n",
    "    # Translate the extracted text to the target language\n",
    "    translator=Translator()\n",
    "    translated_text=translator.translate(extracted_text, src='en', dest=target_language).text\n",
    "\n",
    "    output_file_name=os.path.splitext(file_name)[0] + '_translated.txt'\n",
    "    with open(output_file_name, 'w', encoding='utf-8') as f:\n",
    "        f.write(translated_text) # Write translated text to the output text file\n",
    "\n",
    "    return output_file_name, translated_text # Return the output text file name and translated text"
   ]
  },
  {
   "cell_type": "code",
   "execution_count": 4,
   "metadata": {},
   "outputs": [],
   "source": [
    "pdf=\"Impact of COVID-19 on the Media and Entertainment Industry.pdf\"\n",
    "target_language=\"hi\" # Specify the target language\n",
    "# Call the read_pdf function to extract and translate text from the PDF file\n",
    "text_file, translated_text=read_pdf(pdf, target_language)"
   ]
  },
  {
   "cell_type": "code",
   "execution_count": 5,
   "metadata": {},
   "outputs": [],
   "source": [
    "# Convert translated text to speech\n",
    "speech_translated=gTTS(text=translated_text, lang=target_language)\n",
    "audio_file=os.path.splitext(pdf)[0] + '_audio_' + target_language + '.mp3'\n",
    "speech_translated.save(audio_file) # Save the translated speech as an audio file in mp3 format"
   ]
  }
 ],
 "metadata": {
  "kernelspec": {
   "display_name": "Python 3",
   "language": "python",
   "name": "python3"
  },
  "language_info": {
   "codemirror_mode": {
    "name": "ipython",
    "version": 3
   },
   "file_extension": ".py",
   "mimetype": "text/x-python",
   "name": "python",
   "nbconvert_exporter": "python",
   "pygments_lexer": "ipython3",
   "version": "3.11.1"
  },
  "orig_nbformat": 4
 },
 "nbformat": 4,
 "nbformat_minor": 2
}
